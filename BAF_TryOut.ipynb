{
  "nbformat": 4,
  "nbformat_minor": 0,
  "metadata": {
    "colab": {
      "provenance": [],
      "authorship_tag": "ABX9TyNasWVrlDe8GNjhI+ij3hs0",
      "include_colab_link": true
    },
    "kernelspec": {
      "name": "python3",
      "display_name": "Python 3"
    },
    "language_info": {
      "name": "python"
    }
  },
  "cells": [
    {
      "cell_type": "markdown",
      "metadata": {
        "id": "view-in-github",
        "colab_type": "text"
      },
      "source": [
        "<a href=\"https://colab.research.google.com/github/MDankloff/Delayed-Fairness-Project/blob/main/BAF_TryOut.ipynb\" target=\"_parent\"><img src=\"https://colab.research.google.com/assets/colab-badge.svg\" alt=\"Open In Colab\"/></a>"
      ]
    },
    {
      "cell_type": "markdown",
      "source": [
        "# Libraries"
      ],
      "metadata": {
        "id": "NPDu2yHvtDmy"
      }
    },
    {
      "cell_type": "code",
      "execution_count": 1,
      "metadata": {
        "id": "1T2_vWO8s0tU"
      },
      "outputs": [],
      "source": [
        "import pickle\n",
        "import pandas as pd\n",
        "import numpy as np\n",
        "import matplotlib.pyplot as plt\n",
        "import seaborn as sns\n",
        "import yaml\n",
        "import random\n",
        "import glob\n",
        "import os\n",
        "import joblib\n"
      ]
    },
    {
      "cell_type": "code",
      "source": [
        "!pip install aequitas #Fairness tree aequitas tool\n",
        "from aequitas.group import Group # Fairness metrics\n",
        "from aequitas.bias import Bias\n",
        "from aequitas.fairness import Fairness"
      ],
      "metadata": {
        "id": "MQ4-2dXUt9ZE"
      },
      "execution_count": null,
      "outputs": []
    },
    {
      "cell_type": "markdown",
      "source": [
        "# Load BAF data"
      ],
      "metadata": {
        "id": "oXmaS-13tIHo"
      }
    },
    {
      "cell_type": "markdown",
      "source": [
        "Saved parquet files from csv"
      ],
      "metadata": {
        "id": "Z09Zv6t2uuJ4"
      }
    },
    {
      "cell_type": "code",
      "source": [
        "from google.colab import drive\n",
        "drive.mount('/content/drive')\n",
        "!cd '/content/drive/MyDrive/Mirthe_Supervision /Paper#3/BAF'"
      ],
      "metadata": {
        "colab": {
          "base_uri": "https://localhost:8080/"
        },
        "id": "oxvmYW9wtNse",
        "outputId": "66b0347a-cd27-4911-ee93-d77285f00e7b"
      },
      "execution_count": 4,
      "outputs": [
        {
          "output_type": "stream",
          "name": "stdout",
          "text": [
            "Mounted at /content/drive\n"
          ]
        }
      ]
    },
    {
      "cell_type": "code",
      "source": [
        "base_path = '/content/drive/MyDrive/Mirthe_Supervision /Paper#3/BAF/parquet data'\n",
        "\n",
        "extension = \"parquet\" #parquet for smaller files, csv available\n",
        "data_paths = glob.glob(f\"{base_path}/*.{extension}\")\n",
        "\n",
        "def read_dataset(path, ext = extension):\n",
        "    if ext == \"csv\":\n",
        "      return pd.read_csv(path)\n",
        "    elif ext == \"parquet\":\n",
        "      return pd.read_parquet(path)\n",
        "    else:\n",
        "      raise ValueError(f\"Unsupported file extension: {ext}\")\n",
        "\n",
        "# Extract variant name from the file path (without the extension)\n",
        "def get_variant(path):\n",
        "    return os.path.basename(path).split(\".\")[0]\n",
        "\n",
        "# Dictionary comprehension to read all CSV files into a dictionary of DataFrames\n",
        "dataframes = {\n",
        "    get_variant(path): read_dataset(path) for path in data_paths\n",
        "}\n",
        "print(f\"Loaded datasets: {list(dataframes.keys())}\")\n",
        "\n",
        "datasets_paths = {\n",
        "    \"Base\": base_path + \"/Base.parquet\", # sampled to best represent original dataset\n",
        "    \"Variant I\": base_path + \"/Variant I.parquet\", # higher group size disparity than base - reducing the size of the minority group from approx 20 - 10% of the dataset\n",
        "    \"Variant II\": base_path + \"/Variant II.parquet\", # higher prevalence disparity than base - one group has 5 x the fraud detection rate of the other while group sizes are equal\n",
        "    \"Variant III\": base_path + \"/Variant III.parquet\", # better separability for one of the groups -\n",
        "    \"Variant IV\": base_path + \"/Variant IV.parquet\", # higher prevalence disparity in train\n",
        "    \"Variant V\": base_path + \"/Variant V.parquet\", # better separability in train for one of the groups\n",
        "}"
      ],
      "metadata": {
        "colab": {
          "base_uri": "https://localhost:8080/"
        },
        "id": "EW0cdNzIu46h",
        "outputId": "d6f4bc8d-09c0-464a-bca3-8237737adceb"
      },
      "execution_count": 3,
      "outputs": [
        {
          "output_type": "stream",
          "name": "stdout",
          "text": [
            "Loaded datasets: ['Base', 'Variant I', 'Variant II', 'Variant III', 'Variant IV', 'Variant V']\n"
          ]
        }
      ]
    },
    {
      "cell_type": "code",
      "source": [
        "#Rename datasets\n",
        "base = dataframes['Base']\n",
        "variant1 = dataframes['Variant I']\n",
        "variant2 = dataframes['Variant II']\n",
        "variant3 = dataframes['Variant III']\n",
        "variant4 = dataframes['Variant IV']\n",
        "variant5 = dataframes['Variant V']\n",
        "\n",
        "#for better display\n",
        "pd.set_option('display.max_columns', 50)\n",
        "pd.set_option('display.max_rows', 50)\n",
        "\n",
        "dfs = [base, variant1, variant2, variant3, variant4, variant5]\n",
        "\n",
        "df = variant4 #set to preferred variant\n",
        "new_df = df.copy()\n",
        "\n",
        "df.info()"
      ],
      "metadata": {
        "colab": {
          "base_uri": "https://localhost:8080/"
        },
        "id": "6cMSCJxnvbR2",
        "outputId": "09ca5358-2920-49ff-ef71-d38856c3c254"
      },
      "execution_count": 6,
      "outputs": [
        {
          "output_type": "stream",
          "name": "stdout",
          "text": [
            "<class 'pandas.core.frame.DataFrame'>\n",
            "RangeIndex: 1000000 entries, 0 to 999999\n",
            "Data columns (total 32 columns):\n",
            " #   Column                            Non-Null Count    Dtype  \n",
            "---  ------                            --------------    -----  \n",
            " 0   fraud_bool                        1000000 non-null  int64  \n",
            " 1   income                            1000000 non-null  float64\n",
            " 2   name_email_similarity             1000000 non-null  float64\n",
            " 3   prev_address_months_count         1000000 non-null  int64  \n",
            " 4   current_address_months_count      1000000 non-null  int64  \n",
            " 5   customer_age                      1000000 non-null  int64  \n",
            " 6   days_since_request                1000000 non-null  float64\n",
            " 7   intended_balcon_amount            1000000 non-null  float64\n",
            " 8   payment_type                      1000000 non-null  object \n",
            " 9   zip_count_4w                      1000000 non-null  int64  \n",
            " 10  velocity_6h                       1000000 non-null  float64\n",
            " 11  velocity_24h                      1000000 non-null  float64\n",
            " 12  velocity_4w                       1000000 non-null  float64\n",
            " 13  bank_branch_count_8w              1000000 non-null  int64  \n",
            " 14  date_of_birth_distinct_emails_4w  1000000 non-null  int64  \n",
            " 15  employment_status                 1000000 non-null  object \n",
            " 16  credit_risk_score                 1000000 non-null  int64  \n",
            " 17  email_is_free                     1000000 non-null  int64  \n",
            " 18  housing_status                    1000000 non-null  object \n",
            " 19  phone_home_valid                  1000000 non-null  int64  \n",
            " 20  phone_mobile_valid                1000000 non-null  int64  \n",
            " 21  bank_months_count                 1000000 non-null  int64  \n",
            " 22  has_other_cards                   1000000 non-null  int64  \n",
            " 23  proposed_credit_limit             1000000 non-null  float64\n",
            " 24  foreign_request                   1000000 non-null  int64  \n",
            " 25  source                            1000000 non-null  object \n",
            " 26  session_length_in_minutes         1000000 non-null  float64\n",
            " 27  device_os                         1000000 non-null  object \n",
            " 28  keep_alive_session                1000000 non-null  int64  \n",
            " 29  device_distinct_emails_8w         1000000 non-null  int64  \n",
            " 30  device_fraud_count                1000000 non-null  int64  \n",
            " 31  month                             1000000 non-null  int64  \n",
            "dtypes: float64(9), int64(18), object(5)\n",
            "memory usage: 244.1+ MB\n"
          ]
        }
      ]
    },
    {
      "cell_type": "markdown",
      "source": [
        "# Explore Data"
      ],
      "metadata": {
        "id": "IJTZcm81xR7a"
      }
    },
    {
      "cell_type": "code",
      "source": [
        "df['housing_status'].unique()"
      ],
      "metadata": {
        "id": "HtWExZyfxVQW",
        "outputId": "245d496f-433f-41e3-d630-10675982e5a9",
        "colab": {
          "base_uri": "https://localhost:8080/"
        }
      },
      "execution_count": 9,
      "outputs": [
        {
          "output_type": "execute_result",
          "data": {
            "text/plain": [
              "array(['BC', 'BE', 'BB', 'BA', 'BF', 'BD', 'BG'], dtype=object)"
            ]
          },
          "metadata": {},
          "execution_count": 9
        }
      ]
    },
    {
      "cell_type": "code",
      "source": [
        "fraud_per_month = df.groupby(['month','fraud_bool']).size().unstack()\n",
        "fraud_per_month.plot(kind='bar', stacked=True, figsize=(10, 6))\n",
        "plt.title('Fraud Labels by Month')\n",
        "plt.xlabel('Month')\n",
        "plt.ylabel('Count')\n",
        "plt.show()"
      ],
      "metadata": {
        "id": "Z_zNVaSCW28r",
        "outputId": "c9aef4d6-89d5-489a-bd03-0a591a320555",
        "colab": {
          "base_uri": "https://localhost:8080/",
          "height": 559
        }
      },
      "execution_count": 13,
      "outputs": [
        {
          "output_type": "display_data",
          "data": {
            "text/plain": [
              "<Figure size 1000x600 with 1 Axes>"
            ],
            "image/png": "[encoded data removed]"
          },
          "metadata": {}
        }
      ]
    },
    {
      "cell_type": "code",
      "source": [
        "df['month'].unique()"
      ],
      "metadata": {
        "id": "OSu5jop3XUEw",
        "outputId": "e18e912c-e780-421d-d3fb-aca5b83a0f30",
        "colab": {
          "base_uri": "https://localhost:8080/"
        }
      },
      "execution_count": 14,
      "outputs": [
        {
          "output_type": "execute_result",
          "data": {
            "text/plain": [
              "array([0, 1, 2, 3, 4, 5, 6, 7])"
            ]
          },
          "metadata": {},
          "execution_count": 14
        }
      ]
    },
    {
      "cell_type": "markdown",
      "source": [
        "# Create groups per age"
      ],
      "metadata": {
        "id": "nkFtCbqUZhxq"
      }
    },
    {
      "cell_type": "code",
      "source": [
        "  # define age groups - according to BAF authors\n",
        "df['group'] = np.where(df['customer_age'] >= 50, 'Older', 'Younger')\n",
        "\n",
        "  # split in 2 groups\n",
        "group_a = df[df['group'] == 'Younger']\n",
        "group_b = df[df['group'] == 'Older']"
      ],
      "metadata": {
        "id": "uY5iHLG_X6LW"
      },
      "execution_count": 35,
      "outputs": []
    },
    {
      "cell_type": "code",
      "source": [
        "'''Agent A & B characteristics\n",
        "demographics: customer_age, housing_status, income, employment_status\n",
        "credit history: credit_risk_score, proposed_credit_limit, intended_balcon_amount\n",
        "loan application details:  '''"
      ],
      "metadata": {
        "id": "dLz9XdAWaCPd",
        "outputId": "f7f9fa44-601c-4c84-c776-e95a3ae72cb7",
        "colab": {
          "base_uri": "https://localhost:8080/",
          "height": 55
        }
      },
      "execution_count": 36,
      "outputs": [
        {
          "output_type": "execute_result",
          "data": {
            "text/plain": [
              "'Agent A & B characteristics \\ndemographics: customer_age, housing_status, income, employment_status \\ncredit history: credit_risk_score, proposed_credit_limit, intended_balcon_amount\\nloan application details:  '"
            ],
            "application/vnd.google.colaboratory.intrinsic+json": {
              "type": "string"
            }
          },
          "metadata": {},
          "execution_count": 36
        }
      ]
    },
    {
      "cell_type": "markdown",
      "source": [],
      "metadata": {
        "id": "Ahq-TU4oYHiM"
      }
    },
    {
      "cell_type": "code",
      "source": [
        "fraud_per_age=df.groupby(['group','fraud_bool']).size().unstack()\n",
        "fraud_per_age.plot(kind='bar', stacked=True, figsize=(10, 6))"
      ],
      "metadata": {
        "id": "eo-aRV4zYCFJ",
        "outputId": "0b7f7e12-b991-4940-b784-9278ba02aa2e",
        "colab": {
          "base_uri": "https://localhost:8080/",
          "height": 601
        }
      },
      "execution_count": 38,
      "outputs": [
        {
          "output_type": "execute_result",
          "data": {
            "text/plain": [
              "<Axes: xlabel='group'>"
            ]
          },
          "metadata": {},
          "execution_count": 38
        },
        {
          "output_type": "display_data",
          "data": {
            "text/plain": [
              "<Figure size 1000x600 with 1 Axes>"
            ],
            "image/png": "[encoded data removed]"
          },
          "metadata": {}
        }
      ]
    },
    {
      "cell_type": "code",
      "source": [
        "#group_a.count()"
      ],
      "metadata": {
        "id": "yhf7OUQtYpoO"
      },
      "execution_count": 40,
      "outputs": []
    },
    {
      "cell_type": "code",
      "source": [
        "group_a[group_a['fraud_bool'] == 1]['fraud_bool'].count()"
      ],
      "metadata": {
        "id": "3tqfLxZaYNCe",
        "outputId": "1a18b8e9-5094-481e-8915-0f249da68ecc",
        "colab": {
          "base_uri": "https://localhost:8080/"
        }
      },
      "execution_count": 41,
      "outputs": [
        {
          "output_type": "execute_result",
          "data": {
            "text/plain": [
              "2656"
            ]
          },
          "metadata": {},
          "execution_count": 41
        }
      ]
    },
    {
      "cell_type": "code",
      "source": [
        "fraud_prop_groupa = group_a[group_a['fraud_bool'] == 1]['fraud_bool'].count() / group_a['fraud_bool'].count()\n",
        "print(f\"Fraud proportion for group_a: {fraud_prop_groupa}\")"
      ],
      "metadata": {
        "id": "P6mlR8r2ZGmL",
        "outputId": "be08f12f-c318-460a-d1b1-1c3732f5f7ef",
        "colab": {
          "base_uri": "https://localhost:8080/"
        }
      },
      "execution_count": 42,
      "outputs": [
        {
          "output_type": "stream",
          "name": "stdout",
          "text": [
            "Fraud proportion for group_a: 0.005374472872671939\n"
          ]
        }
      ]
    },
    {
      "cell_type": "code",
      "source": [
        "group_b[group_b['fraud_bool'] == 1]['fraud_bool'].count()"
      ],
      "metadata": {
        "id": "EQ3Z6Bc2Ybvw",
        "outputId": "2ebcc727-80bb-4b4c-d21d-ae7d933b4cab",
        "colab": {
          "base_uri": "https://localhost:8080/"
        }
      },
      "execution_count": 43,
      "outputs": [
        {
          "output_type": "execute_result",
          "data": {
            "text/plain": [
              "8374"
            ]
          },
          "metadata": {},
          "execution_count": 43
        }
      ]
    },
    {
      "cell_type": "code",
      "source": [
        "fraud_prop_groupb = group_b[group_b['fraud_bool'] == 1]['fraud_bool'].count() / group_b['fraud_bool'].count()\n",
        "print(f\"Fraud proportion for group_b: {fraud_prop_groupb}\")"
      ],
      "metadata": {
        "id": "IaNnClxfZKcr",
        "outputId": "c3363289-8ac8-4a58-8efb-f0c10ae2a7c8",
        "colab": {
          "base_uri": "https://localhost:8080/"
        }
      },
      "execution_count": 44,
      "outputs": [
        {
          "output_type": "stream",
          "name": "stdout",
          "text": [
            "Fraud proportion for group_b: 0.01655555819158106\n"
          ]
        }
      ]
    },
    {
      "cell_type": "markdown",
      "source": [
        "# Fairness policies"
      ],
      "metadata": {
        "id": "geI2hB5y63TT"
      }
    },
    {
      "cell_type": "code",
      "source": [
        "# Demographic (statistical) Parity = Equal Approval rates for groups\n",
        "def demographic_parity(df, approval_rate):\n",
        "  num_approved = int(len(df) * approval_rate)\n",
        "  return group.sample(n=num_approved)\n",
        "\n",
        "def max_utility(df, approval_rate):\n",
        "  group['predicted_probability'] = model.predict_proba(group[['relevant_features']])[:, 1] #add column with predicted probabilities\n",
        "\n",
        "    # Select applications where predicted probability is above the threshold:\n",
        "  approved = group[group['predicted_probability'] >= threshold]\n",
        "  return approved"
      ],
      "metadata": {
        "id": "rDuoTAaC65Wz"
      },
      "execution_count": 45,
      "outputs": []
    },
    {
      "cell_type": "code",
      "source": [
        "def apply_fairness_policy(df, policy, threshold):\n",
        "    if policy == \"demographic_parity\":\n",
        "        return demographic_parity(df, threshold)\n",
        "    else:\n",
        "        return max_utility(df, threshold)\n",
        ""
      ],
      "metadata": {
        "id": "T0_geYEcT6Sr",
        "outputId": "8090ee6e-64ed-4b5b-d3c9-96015e36c1fe",
        "colab": {
          "base_uri": "https://localhost:8080/",
          "height": 110
        }
      },
      "execution_count": 46,
      "outputs": [
        {
          "output_type": "error",
          "ename": "SyntaxError",
          "evalue": "invalid syntax (<ipython-input-46-2b7fe832d6de>, line 6)",
          "traceback": [
            "\u001b[0;36m  File \u001b[0;32m\"<ipython-input-46-2b7fe832d6de>\"\u001b[0;36m, line \u001b[0;32m6\u001b[0m\n\u001b[0;31m    else:\u001b[0m\n\u001b[0m    ^\u001b[0m\n\u001b[0;31mSyntaxError\u001b[0m\u001b[0;31m:\u001b[0m invalid syntax\n"
          ]
        }
      ]
    },
    {
      "cell_type": "markdown",
      "source": [
        "# Simulate"
      ],
      "metadata": {
        "id": "pGzPaYWmxNyt"
      }
    },
    {
      "cell_type": "code",
      "source": [
        "def main(df):\n",
        "\n",
        "  # apply fairness policy\n",
        "  policy = \"demographic_parity\"\n",
        "  approval_rate = 0.3\n",
        "  approved_a = apply_fairness_policy(group_a, policy, threshold= approval_rate)\n",
        "  approved_b = apply_fairness_policy(group_b, policy, threshold = approval_rate)\n",
        "\n",
        "  # combine groups\n",
        "  approved = pd.concat([approved_a, approved_b])"
      ],
      "metadata": {
        "id": "Pt-G4EZXxPhH"
      },
      "execution_count": 18,
      "outputs": []
    }
  ]
}