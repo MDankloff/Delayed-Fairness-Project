{
  "nbformat": 4,
  "nbformat_minor": 0,
  "metadata": {
    "colab": {
      "provenance": [],
      "collapsed_sections": [
        "C3PJsmc7mXza"
      ],
      "authorship_tag": "ABX9TyOy2ZaxqwKO6+0wRzBse1xy",
      "include_colab_link": true
    },
    "kernelspec": {
      "name": "python3",
      "display_name": "Python 3"
    },
    "language_info": {
      "name": "python"
    }
  },
  "cells": [
    {
      "cell_type": "markdown",
      "metadata": {
        "id": "view-in-github",
        "colab_type": "text"
      },
      "source": [
        "<a href=\"https://colab.research.google.com/github/MDankloff/Delayed-Fairness-Project/blob/main/MLGymTryOut.ipynb\" target=\"_parent\"><img src=\"https://colab.research.google.com/assets/colab-badge.svg\" alt=\"Open In Colab\"/></a>"
      ]
    },
    {
      "cell_type": "markdown",
      "source": [
        "# Installation instructions"
      ],
      "metadata": {
        "id": "C3PJsmc7mXza"
      }
    },
    {
      "cell_type": "code",
      "execution_count": 13,
      "metadata": {
        "colab": {
          "base_uri": "https://localhost:8080/"
        },
        "collapsed": true,
        "id": "Oszuo2rxiYbf",
        "outputId": "4ab3f0e3-71bf-4d13-a2eb-7ca3aab6767b"
      },
      "outputs": [
        {
          "output_type": "stream",
          "name": "stdout",
          "text": [
            "Cloning into 'ml-fairness-gym'...\n",
            "remote: Enumerating objects: 534, done.\u001b[K\n",
            "remote: Counting objects: 100% (117/117), done.\u001b[K\n",
            "remote: Compressing objects: 100% (115/115), done.\u001b[K\n",
            "remote: Total 534 (delta 19), reused 22 (delta 2), pack-reused 417 (from 1)\u001b[K\n",
            "Receiving objects: 100% (534/534), 7.29 MiB | 5.57 MiB/s, done.\n",
            "Resolving deltas: 100% (263/263), done.\n"
          ]
        }
      ],
      "source": [
        "!git clone https://github.com/google/ml-fairness-gym\n",
        "!cd /content/ml-fairness-gym"
      ]
    },
    {
      "cell_type": "code",
      "source": [
        "# Update requirements.txt (replacing sklean with scikit-learn)\n",
        "!sed -i 's/sklearn/scikit-learn/' requirements.txt"
      ],
      "metadata": {
        "colab": {
          "base_uri": "https://localhost:8080/"
        },
        "id": "0YqrCrfjyvzR",
        "outputId": "7d42fd16-f58c-4f5e-cf7e-2f7377747e3a"
      },
      "execution_count": 14,
      "outputs": [
        {
          "output_type": "stream",
          "name": "stdout",
          "text": [
            "sed: can't read requirements.txt: No such file or directory\n"
          ]
        }
      ]
    },
    {
      "cell_type": "code",
      "source": [
        "#downgrade setuptools to fix compatability issues for gym == 0.19.0 with newer versions of setuptools\n",
        "!pip install setuptools==57.5.0"
      ],
      "metadata": {
        "colab": {
          "base_uri": "https://localhost:8080/"
        },
        "id": "mdbXpUOZzEFh",
        "outputId": "541faad5-ce41-4a29-90e8-def19e53a1cf"
      },
      "execution_count": 15,
      "outputs": [
        {
          "output_type": "stream",
          "name": "stdout",
          "text": [
            "Requirement already satisfied: setuptools==57.5.0 in /usr/local/lib/python3.10/dist-packages (57.5.0)\n"
          ]
        }
      ]
    },
    {
      "cell_type": "code",
      "source": [
        "#downgrading pip as well\n",
        "!python -m pip install \"pip>=23.0,<24.0\""
      ],
      "metadata": {
        "colab": {
          "base_uri": "https://localhost:8080/"
        },
        "collapsed": true,
        "id": "ver8GjXpzQ6m",
        "outputId": "5f6eea92-088b-43ef-bedc-28a5cea6e138"
      },
      "execution_count": 16,
      "outputs": [
        {
          "output_type": "stream",
          "name": "stdout",
          "text": [
            "Requirement already satisfied: pip<24.0,>=23.0 in /usr/local/lib/python3.10/dist-packages (23.3.2)\n"
          ]
        }
      ]
    },
    {
      "cell_type": "code",
      "source": [
        "#The version gym==0.19.0 has some metadata issues. We'll download the source, extract it, and modify the setup.py file to fix the opencv-python dependency\n",
        "!pip download gym==0.19.0\n",
        "!tar -xzf gym-0.19.0.tar.gz\n",
        "%cd gym-0.19.0\n",
        "!sed -i 's/opencv-python>=3./opencv-python>=3.0.0/' setup.py"
      ],
      "metadata": {
        "colab": {
          "base_uri": "https://localhost:8080/"
        },
        "collapsed": true,
        "id": "UKZ50OQwzbUa",
        "outputId": "cde0a2b7-76fe-4412-e4b2-a91e2c12abd8"
      },
      "execution_count": 17,
      "outputs": [
        {
          "output_type": "stream",
          "name": "stdout",
          "text": [
            "Collecting gym==0.19.0\n",
            "  Using cached gym-0.19.0.tar.gz (1.6 MB)\n",
            "  Preparing metadata (setup.py) ... \u001b[?25l\u001b[?25hdone\n",
            "Collecting numpy>=1.18.0 (from gym==0.19.0)\n",
            "  Using cached numpy-2.1.3-cp310-cp310-manylinux_2_17_x86_64.manylinux2014_x86_64.whl.metadata (62 kB)\n",
            "Collecting cloudpickle<1.7.0,>=1.2.0 (from gym==0.19.0)\n",
            "  Using cached cloudpickle-1.6.0-py3-none-any.whl.metadata (4.3 kB)\n",
            "Using cached cloudpickle-1.6.0-py3-none-any.whl (23 kB)\n",
            "Using cached numpy-2.1.3-cp310-cp310-manylinux_2_17_x86_64.manylinux2014_x86_64.whl (16.3 MB)\n",
            "Saved ./gym-0.19.0.tar.gz\n",
            "Saved ./cloudpickle-1.6.0-py3-none-any.whl\n",
            "Saved ./numpy-2.1.3-cp310-cp310-manylinux_2_17_x86_64.manylinux2014_x86_64.whl\n",
            "Successfully downloaded gym cloudpickle numpy\n",
            "/content/gym-0.19.0/gym-0.19.0\n"
          ]
        }
      ]
    },
    {
      "cell_type": "code",
      "source": [
        "#install remaining dependencies from the requirements.txt file\n",
        "!pip install -r /content/ml-fairness-gym/requirements.txt"
      ],
      "metadata": {
        "colab": {
          "base_uri": "https://localhost:8080/"
        },
        "collapsed": true,
        "id": "lYD6nwK0yzU8",
        "outputId": "bc3cf50d-d6f5-47a6-ef5e-f8cd82c358b0"
      },
      "execution_count": 18,
      "outputs": [
        {
          "output_type": "stream",
          "name": "stdout",
          "text": [
            "Requirement already satisfied: absl-py in /usr/local/lib/python3.10/dist-packages (from -r /content/ml-fairness-gym/requirements.txt (line 1)) (1.4.0)\n",
            "Collecting atari-py (from -r /content/ml-fairness-gym/requirements.txt (line 2))\n",
            "  Using cached atari_py-0.2.9-cp310-cp310-linux_x86_64.whl\n",
            "Requirement already satisfied: attrs in /usr/local/lib/python3.10/dist-packages (from -r /content/ml-fairness-gym/requirements.txt (line 3)) (24.2.0)\n",
            "Requirement already satisfied: dopamine-rl in /usr/local/lib/python3.10/dist-packages (from -r /content/ml-fairness-gym/requirements.txt (line 4)) (4.0.9)\n",
            "Requirement already satisfied: gin-config in /usr/local/lib/python3.10/dist-packages (from -r /content/ml-fairness-gym/requirements.txt (line 5)) (0.5.0)\n",
            "Requirement already satisfied: gym==0.19.0 in /content/gym-0.19.0 (from -r /content/ml-fairness-gym/requirements.txt (line 6)) (0.19.0)\n",
            "Requirement already satisfied: matplotlib in /usr/local/lib/python3.10/dist-packages (from -r /content/ml-fairness-gym/requirements.txt (line 7)) (3.8.0)\n",
            "Collecting monty (from -r /content/ml-fairness-gym/requirements.txt (line 8))\n",
            "  Using cached monty-2024.10.21-py3-none-any.whl.metadata (3.6 kB)\n",
            "Requirement already satisfied: more_itertools in /usr/local/lib/python3.10/dist-packages (from -r /content/ml-fairness-gym/requirements.txt (line 9)) (10.5.0)\n",
            "Requirement already satisfied: networkx in /usr/local/lib/python3.10/dist-packages (from -r /content/ml-fairness-gym/requirements.txt (line 10)) (3.4.2)\n",
            "Requirement already satisfied: numpy in /usr/local/lib/python3.10/dist-packages (from -r /content/ml-fairness-gym/requirements.txt (line 11)) (1.26.4)\n",
            "Requirement already satisfied: pandas in /usr/local/lib/python3.10/dist-packages (from -r /content/ml-fairness-gym/requirements.txt (line 12)) (2.2.2)\n",
            "Collecting recsim (from -r /content/ml-fairness-gym/requirements.txt (line 13))\n",
            "  Using cached recsim-0.2.4-py3-none-any.whl\n",
            "Requirement already satisfied: seaborn in /usr/local/lib/python3.10/dist-packages (from -r /content/ml-fairness-gym/requirements.txt (line 14)) (0.13.2)\n",
            "Collecting simplejson (from -r /content/ml-fairness-gym/requirements.txt (line 15))\n",
            "  Using cached simplejson-3.19.3-cp310-cp310-manylinux_2_5_x86_64.manylinux1_x86_64.manylinux_2_17_x86_64.manylinux2014_x86_64.whl.metadata (3.2 kB)\n",
            "Requirement already satisfied: scikit-learn in /usr/local/lib/python3.10/dist-packages (from -r /content/ml-fairness-gym/requirements.txt (line 16)) (1.5.2)\n",
            "Requirement already satisfied: statsmodels in /usr/local/lib/python3.10/dist-packages (from -r /content/ml-fairness-gym/requirements.txt (line 17)) (0.14.4)\n",
            "Requirement already satisfied: tensorflow==2.14.0 in /usr/local/lib/python3.10/dist-packages (from -r /content/ml-fairness-gym/requirements.txt (line 18)) (2.14.0)\n",
            "Requirement already satisfied: tqdm in /usr/local/lib/python3.10/dist-packages (from -r /content/ml-fairness-gym/requirements.txt (line 19)) (4.66.6)\n",
            "Collecting cloudpickle<1.7.0,>=1.2.0 (from gym==0.19.0->-r /content/ml-fairness-gym/requirements.txt (line 6))\n",
            "  Using cached cloudpickle-1.6.0-py3-none-any.whl.metadata (4.3 kB)\n",
            "Requirement already satisfied: astunparse>=1.6.0 in /usr/local/lib/python3.10/dist-packages (from tensorflow==2.14.0->-r /content/ml-fairness-gym/requirements.txt (line 18)) (1.6.3)\n",
            "Requirement already satisfied: flatbuffers>=23.5.26 in /usr/local/lib/python3.10/dist-packages (from tensorflow==2.14.0->-r /content/ml-fairness-gym/requirements.txt (line 18)) (24.3.25)\n",
            "Requirement already satisfied: gast!=0.5.0,!=0.5.1,!=0.5.2,>=0.2.1 in /usr/local/lib/python3.10/dist-packages (from tensorflow==2.14.0->-r /content/ml-fairness-gym/requirements.txt (line 18)) (0.6.0)\n",
            "Requirement already satisfied: google-pasta>=0.1.1 in /usr/local/lib/python3.10/dist-packages (from tensorflow==2.14.0->-r /content/ml-fairness-gym/requirements.txt (line 18)) (0.2.0)\n",
            "Requirement already satisfied: h5py>=2.9.0 in /usr/local/lib/python3.10/dist-packages (from tensorflow==2.14.0->-r /content/ml-fairness-gym/requirements.txt (line 18)) (3.12.1)\n",
            "Requirement already satisfied: libclang>=13.0.0 in /usr/local/lib/python3.10/dist-packages (from tensorflow==2.14.0->-r /content/ml-fairness-gym/requirements.txt (line 18)) (18.1.1)\n",
            "Requirement already satisfied: ml-dtypes==0.2.0 in /usr/local/lib/python3.10/dist-packages (from tensorflow==2.14.0->-r /content/ml-fairness-gym/requirements.txt (line 18)) (0.2.0)\n",
            "Requirement already satisfied: opt-einsum>=2.3.2 in /usr/local/lib/python3.10/dist-packages (from tensorflow==2.14.0->-r /content/ml-fairness-gym/requirements.txt (line 18)) (3.4.0)\n",
            "Requirement already satisfied: packaging in /usr/local/lib/python3.10/dist-packages (from tensorflow==2.14.0->-r /content/ml-fairness-gym/requirements.txt (line 18)) (24.2)\n",
            "Requirement already satisfied: protobuf!=4.21.0,!=4.21.1,!=4.21.2,!=4.21.3,!=4.21.4,!=4.21.5,<5.0.0dev,>=3.20.3 in /usr/local/lib/python3.10/dist-packages (from tensorflow==2.14.0->-r /content/ml-fairness-gym/requirements.txt (line 18)) (4.25.5)\n",
            "Requirement already satisfied: setuptools in /usr/local/lib/python3.10/dist-packages (from tensorflow==2.14.0->-r /content/ml-fairness-gym/requirements.txt (line 18)) (57.5.0)\n",
            "Requirement already satisfied: six>=1.12.0 in /usr/local/lib/python3.10/dist-packages (from tensorflow==2.14.0->-r /content/ml-fairness-gym/requirements.txt (line 18)) (1.16.0)\n",
            "Requirement already satisfied: termcolor>=1.1.0 in /usr/local/lib/python3.10/dist-packages (from tensorflow==2.14.0->-r /content/ml-fairness-gym/requirements.txt (line 18)) (2.5.0)\n",
            "Requirement already satisfied: typing-extensions>=3.6.6 in /usr/local/lib/python3.10/dist-packages (from tensorflow==2.14.0->-r /content/ml-fairness-gym/requirements.txt (line 18)) (4.12.2)\n",
            "Requirement already satisfied: wrapt<1.15,>=1.11.0 in /usr/local/lib/python3.10/dist-packages (from tensorflow==2.14.0->-r /content/ml-fairness-gym/requirements.txt (line 18)) (1.14.1)\n",
            "Requirement already satisfied: tensorflow-io-gcs-filesystem>=0.23.1 in /usr/local/lib/python3.10/dist-packages (from tensorflow==2.14.0->-r /content/ml-fairness-gym/requirements.txt (line 18)) (0.37.1)\n",
            "Requirement already satisfied: grpcio<2.0,>=1.24.3 in /usr/local/lib/python3.10/dist-packages (from tensorflow==2.14.0->-r /content/ml-fairness-gym/requirements.txt (line 18)) (1.67.1)\n",
            "Requirement already satisfied: tensorboard<2.15,>=2.14 in /usr/local/lib/python3.10/dist-packages (from tensorflow==2.14.0->-r /content/ml-fairness-gym/requirements.txt (line 18)) (2.14.1)\n",
            "Requirement already satisfied: tensorflow-estimator<2.15,>=2.14.0 in /usr/local/lib/python3.10/dist-packages (from tensorflow==2.14.0->-r /content/ml-fairness-gym/requirements.txt (line 18)) (2.14.0)\n",
            "Requirement already satisfied: keras<2.15,>=2.14.0 in /usr/local/lib/python3.10/dist-packages (from tensorflow==2.14.0->-r /content/ml-fairness-gym/requirements.txt (line 18)) (2.14.0)\n",
            "Requirement already satisfied: opencv-python>=3.4.8.29 in /usr/local/lib/python3.10/dist-packages (from dopamine-rl->-r /content/ml-fairness-gym/requirements.txt (line 4)) (4.10.0.84)\n",
            "Requirement already satisfied: flax>=0.2.0 in /usr/local/lib/python3.10/dist-packages (from dopamine-rl->-r /content/ml-fairness-gym/requirements.txt (line 4)) (0.8.5)\n",
            "Requirement already satisfied: jax>=0.1.72 in /usr/local/lib/python3.10/dist-packages (from dopamine-rl->-r /content/ml-fairness-gym/requirements.txt (line 4)) (0.4.33)\n",
            "Requirement already satisfied: jaxlib>=0.1.51 in /usr/local/lib/python3.10/dist-packages (from dopamine-rl->-r /content/ml-fairness-gym/requirements.txt (line 4)) (0.4.33)\n",
            "Requirement already satisfied: Pillow>=7.0.0 in /usr/local/lib/python3.10/dist-packages (from dopamine-rl->-r /content/ml-fairness-gym/requirements.txt (line 4)) (11.0.0)\n",
            "Requirement already satisfied: pygame>=1.9.2 in /usr/local/lib/python3.10/dist-packages (from dopamine-rl->-r /content/ml-fairness-gym/requirements.txt (line 4)) (2.6.1)\n",
            "Requirement already satisfied: tf-slim>=1.0 in /usr/local/lib/python3.10/dist-packages (from dopamine-rl->-r /content/ml-fairness-gym/requirements.txt (line 4)) (1.1.0)\n",
            "Requirement already satisfied: tensorflow-probability>=0.13.0 in /usr/local/lib/python3.10/dist-packages (from dopamine-rl->-r /content/ml-fairness-gym/requirements.txt (line 4)) (0.24.0)\n",
            "Requirement already satisfied: contourpy>=1.0.1 in /usr/local/lib/python3.10/dist-packages (from matplotlib->-r /content/ml-fairness-gym/requirements.txt (line 7)) (1.3.1)\n",
            "Requirement already satisfied: cycler>=0.10 in /usr/local/lib/python3.10/dist-packages (from matplotlib->-r /content/ml-fairness-gym/requirements.txt (line 7)) (0.12.1)\n",
            "Requirement already satisfied: fonttools>=4.22.0 in /usr/local/lib/python3.10/dist-packages (from matplotlib->-r /content/ml-fairness-gym/requirements.txt (line 7)) (4.54.1)\n",
            "Requirement already satisfied: kiwisolver>=1.0.1 in /usr/local/lib/python3.10/dist-packages (from matplotlib->-r /content/ml-fairness-gym/requirements.txt (line 7)) (1.4.7)\n",
            "Requirement already satisfied: pyparsing>=2.3.1 in /usr/local/lib/python3.10/dist-packages (from matplotlib->-r /content/ml-fairness-gym/requirements.txt (line 7)) (3.2.0)\n",
            "Requirement already satisfied: python-dateutil>=2.7 in /usr/local/lib/python3.10/dist-packages (from matplotlib->-r /content/ml-fairness-gym/requirements.txt (line 7)) (2.8.2)\n",
            "Collecting ruamel.yaml (from monty->-r /content/ml-fairness-gym/requirements.txt (line 8))\n",
            "  Using cached ruamel.yaml-0.18.6-py3-none-any.whl.metadata (23 kB)\n",
            "Requirement already satisfied: pytz>=2020.1 in /usr/local/lib/python3.10/dist-packages (from pandas->-r /content/ml-fairness-gym/requirements.txt (line 12)) (2024.2)\n",
            "Requirement already satisfied: tzdata>=2022.7 in /usr/local/lib/python3.10/dist-packages (from pandas->-r /content/ml-fairness-gym/requirements.txt (line 12)) (2024.2)\n",
            "Requirement already satisfied: scipy in /usr/local/lib/python3.10/dist-packages (from recsim->-r /content/ml-fairness-gym/requirements.txt (line 13)) (1.13.1)\n",
            "Requirement already satisfied: joblib>=1.2.0 in /usr/local/lib/python3.10/dist-packages (from scikit-learn->-r /content/ml-fairness-gym/requirements.txt (line 16)) (1.4.2)\n",
            "Requirement already satisfied: threadpoolctl>=3.1.0 in /usr/local/lib/python3.10/dist-packages (from scikit-learn->-r /content/ml-fairness-gym/requirements.txt (line 16)) (3.5.0)\n",
            "Requirement already satisfied: patsy>=0.5.6 in /usr/local/lib/python3.10/dist-packages (from statsmodels->-r /content/ml-fairness-gym/requirements.txt (line 17)) (1.0.1)\n",
            "Requirement already satisfied: wheel<1.0,>=0.23.0 in /usr/local/lib/python3.10/dist-packages (from astunparse>=1.6.0->tensorflow==2.14.0->-r /content/ml-fairness-gym/requirements.txt (line 18)) (0.45.0)\n",
            "Requirement already satisfied: msgpack in /usr/local/lib/python3.10/dist-packages (from flax>=0.2.0->dopamine-rl->-r /content/ml-fairness-gym/requirements.txt (line 4)) (1.1.0)\n",
            "Requirement already satisfied: optax in /usr/local/lib/python3.10/dist-packages (from flax>=0.2.0->dopamine-rl->-r /content/ml-fairness-gym/requirements.txt (line 4)) (0.2.4)\n",
            "Requirement already satisfied: orbax-checkpoint in /usr/local/lib/python3.10/dist-packages (from flax>=0.2.0->dopamine-rl->-r /content/ml-fairness-gym/requirements.txt (line 4)) (0.6.4)\n",
            "Requirement already satisfied: tensorstore in /usr/local/lib/python3.10/dist-packages (from flax>=0.2.0->dopamine-rl->-r /content/ml-fairness-gym/requirements.txt (line 4)) (0.1.67)\n",
            "Requirement already satisfied: rich>=11.1 in /usr/local/lib/python3.10/dist-packages (from flax>=0.2.0->dopamine-rl->-r /content/ml-fairness-gym/requirements.txt (line 4)) (13.9.4)\n",
            "Requirement already satisfied: PyYAML>=5.4.1 in /usr/local/lib/python3.10/dist-packages (from flax>=0.2.0->dopamine-rl->-r /content/ml-fairness-gym/requirements.txt (line 4)) (6.0.2)\n",
            "Requirement already satisfied: google-auth<3,>=1.6.3 in /usr/local/lib/python3.10/dist-packages (from tensorboard<2.15,>=2.14->tensorflow==2.14.0->-r /content/ml-fairness-gym/requirements.txt (line 18)) (2.27.0)\n",
            "Requirement already satisfied: google-auth-oauthlib<1.1,>=0.5 in /usr/local/lib/python3.10/dist-packages (from tensorboard<2.15,>=2.14->tensorflow==2.14.0->-r /content/ml-fairness-gym/requirements.txt (line 18)) (1.0.0)\n",
            "Requirement already satisfied: markdown>=2.6.8 in /usr/local/lib/python3.10/dist-packages (from tensorboard<2.15,>=2.14->tensorflow==2.14.0->-r /content/ml-fairness-gym/requirements.txt (line 18)) (3.7)\n",
            "Requirement already satisfied: requests<3,>=2.21.0 in /usr/local/lib/python3.10/dist-packages (from tensorboard<2.15,>=2.14->tensorflow==2.14.0->-r /content/ml-fairness-gym/requirements.txt (line 18)) (2.32.3)\n",
            "Requirement already satisfied: tensorboard-data-server<0.8.0,>=0.7.0 in /usr/local/lib/python3.10/dist-packages (from tensorboard<2.15,>=2.14->tensorflow==2.14.0->-r /content/ml-fairness-gym/requirements.txt (line 18)) (0.7.2)\n",
            "Requirement already satisfied: werkzeug>=1.0.1 in /usr/local/lib/python3.10/dist-packages (from tensorboard<2.15,>=2.14->tensorflow==2.14.0->-r /content/ml-fairness-gym/requirements.txt (line 18)) (3.1.3)\n",
            "Requirement already satisfied: decorator in /usr/local/lib/python3.10/dist-packages (from tensorflow-probability>=0.13.0->dopamine-rl->-r /content/ml-fairness-gym/requirements.txt (line 4)) (4.4.2)\n",
            "Requirement already satisfied: dm-tree in /usr/local/lib/python3.10/dist-packages (from tensorflow-probability>=0.13.0->dopamine-rl->-r /content/ml-fairness-gym/requirements.txt (line 4)) (0.1.8)\n",
            "Collecting ruamel.yaml.clib>=0.2.7 (from ruamel.yaml->monty->-r /content/ml-fairness-gym/requirements.txt (line 8))\n",
            "  Using cached ruamel.yaml.clib-0.2.12-cp310-cp310-manylinux_2_17_x86_64.manylinux2014_x86_64.whl.metadata (2.7 kB)\n",
            "Requirement already satisfied: cachetools<6.0,>=2.0.0 in /usr/local/lib/python3.10/dist-packages (from google-auth<3,>=1.6.3->tensorboard<2.15,>=2.14->tensorflow==2.14.0->-r /content/ml-fairness-gym/requirements.txt (line 18)) (5.5.0)\n",
            "Requirement already satisfied: pyasn1-modules>=0.2.1 in /usr/local/lib/python3.10/dist-packages (from google-auth<3,>=1.6.3->tensorboard<2.15,>=2.14->tensorflow==2.14.0->-r /content/ml-fairness-gym/requirements.txt (line 18)) (0.4.1)\n",
            "Requirement already satisfied: rsa<5,>=3.1.4 in /usr/local/lib/python3.10/dist-packages (from google-auth<3,>=1.6.3->tensorboard<2.15,>=2.14->tensorflow==2.14.0->-r /content/ml-fairness-gym/requirements.txt (line 18)) (4.9)\n",
            "Requirement already satisfied: requests-oauthlib>=0.7.0 in /usr/local/lib/python3.10/dist-packages (from google-auth-oauthlib<1.1,>=0.5->tensorboard<2.15,>=2.14->tensorflow==2.14.0->-r /content/ml-fairness-gym/requirements.txt (line 18)) (1.3.1)\n",
            "Requirement already satisfied: charset-normalizer<4,>=2 in /usr/local/lib/python3.10/dist-packages (from requests<3,>=2.21.0->tensorboard<2.15,>=2.14->tensorflow==2.14.0->-r /content/ml-fairness-gym/requirements.txt (line 18)) (3.4.0)\n",
            "Requirement already satisfied: idna<4,>=2.5 in /usr/local/lib/python3.10/dist-packages (from requests<3,>=2.21.0->tensorboard<2.15,>=2.14->tensorflow==2.14.0->-r /content/ml-fairness-gym/requirements.txt (line 18)) (3.10)\n",
            "Requirement already satisfied: urllib3<3,>=1.21.1 in /usr/local/lib/python3.10/dist-packages (from requests<3,>=2.21.0->tensorboard<2.15,>=2.14->tensorflow==2.14.0->-r /content/ml-fairness-gym/requirements.txt (line 18)) (2.2.3)\n",
            "Requirement already satisfied: certifi>=2017.4.17 in /usr/local/lib/python3.10/dist-packages (from requests<3,>=2.21.0->tensorboard<2.15,>=2.14->tensorflow==2.14.0->-r /content/ml-fairness-gym/requirements.txt (line 18)) (2024.8.30)\n",
            "Requirement already satisfied: markdown-it-py>=2.2.0 in /usr/local/lib/python3.10/dist-packages (from rich>=11.1->flax>=0.2.0->dopamine-rl->-r /content/ml-fairness-gym/requirements.txt (line 4)) (3.0.0)\n",
            "Requirement already satisfied: pygments<3.0.0,>=2.13.0 in /usr/local/lib/python3.10/dist-packages (from rich>=11.1->flax>=0.2.0->dopamine-rl->-r /content/ml-fairness-gym/requirements.txt (line 4)) (2.18.0)\n",
            "Requirement already satisfied: MarkupSafe>=2.1.1 in /usr/local/lib/python3.10/dist-packages (from werkzeug>=1.0.1->tensorboard<2.15,>=2.14->tensorflow==2.14.0->-r /content/ml-fairness-gym/requirements.txt (line 18)) (3.0.2)\n",
            "Requirement already satisfied: chex>=0.1.87 in /usr/local/lib/python3.10/dist-packages (from optax->flax>=0.2.0->dopamine-rl->-r /content/ml-fairness-gym/requirements.txt (line 4)) (0.1.87)\n",
            "Requirement already satisfied: etils[epy] in /usr/local/lib/python3.10/dist-packages (from optax->flax>=0.2.0->dopamine-rl->-r /content/ml-fairness-gym/requirements.txt (line 4)) (1.10.0)\n",
            "Requirement already satisfied: nest_asyncio in /usr/local/lib/python3.10/dist-packages (from orbax-checkpoint->flax>=0.2.0->dopamine-rl->-r /content/ml-fairness-gym/requirements.txt (line 4)) (1.6.0)\n",
            "Requirement already satisfied: humanize in /usr/local/lib/python3.10/dist-packages (from orbax-checkpoint->flax>=0.2.0->dopamine-rl->-r /content/ml-fairness-gym/requirements.txt (line 4)) (4.11.0)\n",
            "INFO: pip is looking at multiple versions of tensorstore to determine which version is compatible with other requirements. This could take a while.\n",
            "Collecting tensorstore (from flax>=0.2.0->dopamine-rl->-r /content/ml-fairness-gym/requirements.txt (line 4))\n",
            "  Using cached tensorstore-0.1.68-cp310-cp310-manylinux_2_17_x86_64.manylinux2014_x86_64.whl.metadata (3.0 kB)\n",
            "  Using cached tensorstore-0.1.66-cp310-cp310-manylinux_2_17_x86_64.manylinux2014_x86_64.whl.metadata (3.0 kB)\n",
            "  Using cached tensorstore-0.1.65-cp310-cp310-manylinux_2_17_x86_64.manylinux2014_x86_64.whl.metadata (3.0 kB)\n",
            "  Using cached tensorstore-0.1.64-cp310-cp310-manylinux_2_17_x86_64.manylinux2014_x86_64.whl.metadata (3.0 kB)\n",
            "  Using cached tensorstore-0.1.63-cp310-cp310-manylinux_2_17_x86_64.manylinux2014_x86_64.whl.metadata (3.0 kB)\n",
            "  Using cached tensorstore-0.1.62-cp310-cp310-manylinux_2_17_x86_64.manylinux2014_x86_64.whl.metadata (3.0 kB)\n",
            "  Using cached tensorstore-0.1.61-cp310-cp310-manylinux_2_17_x86_64.manylinux2014_x86_64.whl.metadata (3.0 kB)\n",
            "INFO: pip is still looking at multiple versions of tensorstore to determine which version is compatible with other requirements. This could take a while.\n",
            "  Using cached tensorstore-0.1.60-cp310-cp310-manylinux_2_17_x86_64.manylinux2014_x86_64.whl.metadata (3.0 kB)\n",
            "Collecting orbax-checkpoint (from flax>=0.2.0->dopamine-rl->-r /content/ml-fairness-gym/requirements.txt (line 4))\n",
            "  Using cached orbax_checkpoint-0.9.1-py3-none-any.whl.metadata (1.8 kB)\n",
            "INFO: This is taking longer than usual. You might need to provide the dependency resolver with stricter constraints to reduce runtime. See https://pip.pypa.io/warnings/backtracking for guidance. If you want to abort this run, press Ctrl + C.\n",
            "Collecting tensorstore (from flax>=0.2.0->dopamine-rl->-r /content/ml-fairness-gym/requirements.txt (line 4))\n",
            "  Using cached tensorstore-0.1.59-cp310-cp310-manylinux_2_17_x86_64.manylinux2014_x86_64.whl.metadata (3.0 kB)\n",
            "  Using cached tensorstore-0.1.58-cp310-cp310-manylinux_2_17_x86_64.manylinux2014_x86_64.whl.metadata (3.0 kB)\n",
            "  Using cached tensorstore-0.1.57-cp310-cp310-manylinux_2_17_x86_64.manylinux2014_x86_64.whl.metadata (3.0 kB)\n",
            "  Using cached tensorstore-0.1.56-cp310-cp310-manylinux_2_17_x86_64.manylinux2014_x86_64.whl.metadata (3.0 kB)\n",
            "  Using cached tensorstore-0.1.55-cp310-cp310-manylinux_2_17_x86_64.manylinux2014_x86_64.whl.metadata (3.0 kB)\n",
            "  Using cached tensorstore-0.1.54-cp310-cp310-manylinux_2_17_x86_64.manylinux2014_x86_64.whl.metadata (3.0 kB)\n",
            "  Using cached tensorstore-0.1.53-cp310-cp310-manylinux_2_17_x86_64.manylinux2014_x86_64.whl.metadata (3.0 kB)\n",
            "  Using cached tensorstore-0.1.52-cp310-cp310-manylinux_2_17_x86_64.manylinux2014_x86_64.whl.metadata (3.0 kB)\n",
            "  Using cached tensorstore-0.1.51-cp310-cp310-manylinux_2_17_x86_64.manylinux2014_x86_64.whl.metadata (3.0 kB)\n",
            "  Using cached tensorstore-0.1.50-cp310-cp310-manylinux_2_17_x86_64.manylinux2014_x86_64.whl.metadata (3.0 kB)\n",
            "  Using cached tensorstore-0.1.49-cp310-cp310-manylinux_2_17_x86_64.manylinux2014_x86_64.whl.metadata (3.0 kB)\n",
            "  Using cached tensorstore-0.1.48-cp310-cp310-manylinux_2_17_x86_64.manylinux2014_x86_64.whl.metadata (2.9 kB)\n",
            "  Using cached tensorstore-0.1.47-cp310-cp310-manylinux_2_17_x86_64.manylinux2014_x86_64.whl.metadata (2.9 kB)\n",
            "  Using cached tensorstore-0.1.46-cp310-cp310-manylinux_2_17_x86_64.manylinux2014_x86_64.whl.metadata (2.9 kB)\n",
            "  Using cached tensorstore-0.1.45-cp310-cp310-manylinux_2_17_x86_64.manylinux2014_x86_64.whl.metadata (2.9 kB)\n",
            "Collecting jax>=0.1.72 (from dopamine-rl->-r /content/ml-fairness-gym/requirements.txt (line 4))\n",
            "  Using cached jax-0.4.35-py3-none-any.whl.metadata (22 kB)\n",
            "Collecting jaxlib>=0.1.51 (from dopamine-rl->-r /content/ml-fairness-gym/requirements.txt (line 4))\n",
            "  Using cached jaxlib-0.4.35-cp310-cp310-manylinux2014_x86_64.whl.metadata (983 bytes)\n",
            "INFO: pip is looking at multiple versions of jax to determine which version is compatible with other requirements. This could take a while.\n",
            "Collecting jax>=0.1.72 (from dopamine-rl->-r /content/ml-fairness-gym/requirements.txt (line 4))\n",
            "  Using cached jax-0.4.34-py3-none-any.whl.metadata (22 kB)\n",
            "Collecting jaxlib>=0.1.51 (from dopamine-rl->-r /content/ml-fairness-gym/requirements.txt (line 4))\n",
            "  Using cached jaxlib-0.4.34-cp310-cp310-manylinux2014_x86_64.whl.metadata (983 bytes)\n",
            "Collecting orbax-checkpoint (from flax>=0.2.0->dopamine-rl->-r /content/ml-fairness-gym/requirements.txt (line 4))\n",
            "  Using cached orbax_checkpoint-0.9.0-py3-none-any.whl.metadata (1.8 kB)\n",
            "  Using cached orbax_checkpoint-0.8.0-py3-none-any.whl.metadata (1.8 kB)\n",
            "  Using cached orbax_checkpoint-0.7.0-py3-none-any.whl.metadata (1.8 kB)\n",
            "INFO: pip is still looking at multiple versions of jax to determine which version is compatible with other requirements. This could take a while.\n",
            "  Using cached orbax_checkpoint-0.6.4-py3-none-any.whl.metadata (1.8 kB)\n",
            "  Using cached orbax_checkpoint-0.6.3-py3-none-any.whl.metadata (1.8 kB)\n",
            "  Using cached orbax_checkpoint-0.6.2-py3-none-any.whl.metadata (1.8 kB)\n",
            "  Using cached orbax_checkpoint-0.6.1-py3-none-any.whl.metadata (1.8 kB)\n",
            "  Using cached orbax_checkpoint-0.6.0-py3-none-any.whl.metadata (1.8 kB)\n",
            "  Using cached orbax_checkpoint-0.5.23-py3-none-any.whl.metadata (1.8 kB)\n",
            "  Using cached orbax_checkpoint-0.5.22-py3-none-any.whl.metadata (1.8 kB)\n",
            "  Using cached orbax_checkpoint-0.5.21-py3-none-any.whl.metadata (1.8 kB)\n",
            "  Using cached orbax_checkpoint-0.5.20-py3-none-any.whl.metadata (1.8 kB)\n",
            "  Using cached orbax_checkpoint-0.5.19-py3-none-any.whl.metadata (1.8 kB)\n",
            "  Using cached orbax_checkpoint-0.5.18-py3-none-any.whl.metadata (1.8 kB)\n",
            "  Using cached orbax_checkpoint-0.5.17-py3-none-any.whl.metadata (1.8 kB)\n",
            "  Using cached orbax_checkpoint-0.5.16-py3-none-any.whl.metadata (1.8 kB)\n",
            "  Using cached orbax_checkpoint-0.5.15-py3-none-any.whl.metadata (1.8 kB)\n",
            "  Using cached orbax_checkpoint-0.5.14-py3-none-any.whl.metadata (1.8 kB)\n",
            "  Using cached orbax_checkpoint-0.5.13-py3-none-any.whl.metadata (1.8 kB)\n",
            "  Using cached orbax_checkpoint-0.5.12-py3-none-any.whl.metadata (1.8 kB)\n",
            "  Using cached orbax_checkpoint-0.5.11-py3-none-any.whl.metadata (1.8 kB)\n",
            "  Using cached orbax_checkpoint-0.5.10-py3-none-any.whl.metadata (1.8 kB)\n",
            "  Using cached orbax_checkpoint-0.5.9-py3-none-any.whl.metadata (1.7 kB)\n",
            "  Using cached orbax_checkpoint-0.5.8-py3-none-any.whl.metadata (1.7 kB)\n",
            "  Using cached orbax_checkpoint-0.5.7-py3-none-any.whl.metadata (1.7 kB)\n",
            "  Using cached orbax_checkpoint-0.5.6-py3-none-any.whl.metadata (1.7 kB)\n",
            "  Using cached orbax_checkpoint-0.5.5-py3-none-any.whl.metadata (1.7 kB)\n",
            "  Using cached orbax_checkpoint-0.5.4-py3-none-any.whl.metadata (1.7 kB)\n",
            "  Using cached orbax_checkpoint-0.5.3-py3-none-any.whl.metadata (1.7 kB)\n",
            "  Using cached orbax_checkpoint-0.5.2-py3-none-any.whl.metadata (1.7 kB)\n",
            "  Using cached orbax_checkpoint-0.5.1-py3-none-any.whl.metadata (1.7 kB)\n",
            "  Using cached orbax_checkpoint-0.5.0-py3-none-any.whl.metadata (1.7 kB)\n",
            "  Using cached orbax_checkpoint-0.4.8-py3-none-any.whl.metadata (1.7 kB)\n",
            "  Using cached orbax_checkpoint-0.4.7-py3-none-any.whl.metadata (1.7 kB)\n",
            "  Using cached orbax_checkpoint-0.4.6-py3-none-any.whl.metadata (1.7 kB)\n",
            "  Using cached orbax_checkpoint-0.4.5-py3-none-any.whl.metadata (1.7 kB)\n",
            "  Using cached orbax_checkpoint-0.4.4-py3-none-any.whl.metadata (1.7 kB)\n",
            "Requirement already satisfied: toolz>=0.9.0 in /usr/local/lib/python3.10/dist-packages (from chex>=0.1.87->optax->flax>=0.2.0->dopamine-rl->-r /content/ml-fairness-gym/requirements.txt (line 4)) (0.12.1)\n",
            "Requirement already satisfied: mdurl~=0.1 in /usr/local/lib/python3.10/dist-packages (from markdown-it-py>=2.2.0->rich>=11.1->flax>=0.2.0->dopamine-rl->-r /content/ml-fairness-gym/requirements.txt (line 4)) (0.1.2)\n",
            "Requirement already satisfied: pyasn1<0.7.0,>=0.4.6 in /usr/local/lib/python3.10/dist-packages (from pyasn1-modules>=0.2.1->google-auth<3,>=1.6.3->tensorboard<2.15,>=2.14->tensorflow==2.14.0->-r /content/ml-fairness-gym/requirements.txt (line 18)) (0.6.1)\n",
            "Requirement already satisfied: oauthlib>=3.0.0 in /usr/local/lib/python3.10/dist-packages (from requests-oauthlib>=0.7.0->google-auth-oauthlib<1.1,>=0.5->tensorboard<2.15,>=2.14->tensorflow==2.14.0->-r /content/ml-fairness-gym/requirements.txt (line 18)) (3.2.2)\n",
            "Requirement already satisfied: fsspec in /usr/local/lib/python3.10/dist-packages (from etils[epath,epy]->orbax-checkpoint->flax>=0.2.0->dopamine-rl->-r /content/ml-fairness-gym/requirements.txt (line 4)) (2024.10.0)\n",
            "Requirement already satisfied: importlib_resources in /usr/local/lib/python3.10/dist-packages (from etils[epath,epy]->orbax-checkpoint->flax>=0.2.0->dopamine-rl->-r /content/ml-fairness-gym/requirements.txt (line 4)) (6.4.5)\n",
            "Requirement already satisfied: zipp in /usr/local/lib/python3.10/dist-packages (from etils[epath,epy]->orbax-checkpoint->flax>=0.2.0->dopamine-rl->-r /content/ml-fairness-gym/requirements.txt (line 4)) (3.21.0)\n",
            "Using cached monty-2024.10.21-py3-none-any.whl (68 kB)\n",
            "Using cached simplejson-3.19.3-cp310-cp310-manylinux_2_5_x86_64.manylinux1_x86_64.manylinux_2_17_x86_64.manylinux2014_x86_64.whl (137 kB)\n",
            "Using cached cloudpickle-1.6.0-py3-none-any.whl (23 kB)\n",
            "Using cached ruamel.yaml-0.18.6-py3-none-any.whl (117 kB)\n",
            "Using cached ruamel.yaml.clib-0.2.12-cp310-cp310-manylinux_2_17_x86_64.manylinux2014_x86_64.whl (722 kB)\n",
            "Using cached tensorstore-0.1.45-cp310-cp310-manylinux_2_17_x86_64.manylinux2014_x86_64.whl (13.5 MB)\n",
            "Using cached orbax_checkpoint-0.4.4-py3-none-any.whl (123 kB)\n",
            "Installing collected packages: tensorstore, simplejson, ruamel.yaml.clib, cloudpickle, atari-py, ruamel.yaml, monty, orbax-checkpoint, recsim\n",
            "  Attempting uninstall: tensorstore\n",
            "    Found existing installation: tensorstore 0.1.67\n",
            "    Uninstalling tensorstore-0.1.67:\n",
            "      Successfully uninstalled tensorstore-0.1.67\n",
            "  Attempting uninstall: cloudpickle\n",
            "    Found existing installation: cloudpickle 3.1.0\n",
            "    Uninstalling cloudpickle-3.1.0:\n",
            "      Successfully uninstalled cloudpickle-3.1.0\n",
            "  Attempting uninstall: orbax-checkpoint\n",
            "    Found existing installation: orbax-checkpoint 0.6.4\n",
            "    Uninstalling orbax-checkpoint-0.6.4:\n",
            "      Successfully uninstalled orbax-checkpoint-0.6.4\n",
            "\u001b[31mERROR: pip's dependency resolver does not currently take into account all the packages that are installed. This behaviour is the source of the following dependency conflicts.\n",
            "bigframes 1.25.0 requires cloudpickle>=2.0.0, but you have cloudpickle 1.6.0 which is incompatible.\n",
            "dask 2024.10.0 requires cloudpickle>=3.0.0, but you have cloudpickle 1.6.0 which is incompatible.\u001b[0m\u001b[31m\n",
            "\u001b[0mSuccessfully installed atari-py-0.2.9 cloudpickle-1.6.0 monty-2024.10.21 orbax-checkpoint-0.4.4 recsim-0.2.4 ruamel.yaml-0.18.6 ruamel.yaml.clib-0.2.12 simplejson-3.19.3 tensorstore-0.1.45\n"
          ]
        }
      ]
    },
    {
      "cell_type": "markdown",
      "source": [
        "# Set up Environment Variable"
      ],
      "metadata": {
        "id": "E6wimZvA0NPl"
      }
    },
    {
      "cell_type": "code",
      "source": [
        "#Need to update the PYTHONPATH so that Colab recognize the ml-fairness-gym package:\n",
        "import os\n",
        "os.environ['PYTHONPATH'] = f\"{os.environ.get('PYTHONPATH', '')}:/content/ml-fairness-gym\"\n"
      ],
      "metadata": {
        "id": "llM6qe_w2Hj8"
      },
      "execution_count": 19,
      "outputs": []
    },
    {
      "cell_type": "code",
      "source": [
        "#fix tensorflow compatibility\n",
        "!pip install tensorflow==2.14"
      ],
      "metadata": {
        "colab": {
          "base_uri": "https://localhost:8080/"
        },
        "collapsed": true,
        "id": "EYLhp9w01gkX",
        "outputId": "182ceb28-465d-43e7-a03e-a016a68e90cf"
      },
      "execution_count": 20,
      "outputs": [
        {
          "output_type": "stream",
          "name": "stdout",
          "text": [
            "Requirement already satisfied: tensorflow==2.14 in /usr/local/lib/python3.10/dist-packages (2.14.0)\n",
            "Requirement already satisfied: absl-py>=1.0.0 in /usr/local/lib/python3.10/dist-packages (from tensorflow==2.14) (1.4.0)\n",
            "Requirement already satisfied: astunparse>=1.6.0 in /usr/local/lib/python3.10/dist-packages (from tensorflow==2.14) (1.6.3)\n",
            "Requirement already satisfied: flatbuffers>=23.5.26 in /usr/local/lib/python3.10/dist-packages (from tensorflow==2.14) (24.3.25)\n",
            "Requirement already satisfied: gast!=0.5.0,!=0.5.1,!=0.5.2,>=0.2.1 in /usr/local/lib/python3.10/dist-packages (from tensorflow==2.14) (0.6.0)\n",
            "Requirement already satisfied: google-pasta>=0.1.1 in /usr/local/lib/python3.10/dist-packages (from tensorflow==2.14) (0.2.0)\n",
            "Requirement already satisfied: h5py>=2.9.0 in /usr/local/lib/python3.10/dist-packages (from tensorflow==2.14) (3.12.1)\n",
            "Requirement already satisfied: libclang>=13.0.0 in /usr/local/lib/python3.10/dist-packages (from tensorflow==2.14) (18.1.1)\n",
            "Requirement already satisfied: ml-dtypes==0.2.0 in /usr/local/lib/python3.10/dist-packages (from tensorflow==2.14) (0.2.0)\n",
            "Requirement already satisfied: numpy>=1.23.5 in /usr/local/lib/python3.10/dist-packages (from tensorflow==2.14) (1.26.4)\n",
            "Requirement already satisfied: opt-einsum>=2.3.2 in /usr/local/lib/python3.10/dist-packages (from tensorflow==2.14) (3.4.0)\n",
            "Requirement already satisfied: packaging in /usr/local/lib/python3.10/dist-packages (from tensorflow==2.14) (24.2)\n",
            "Requirement already satisfied: protobuf!=4.21.0,!=4.21.1,!=4.21.2,!=4.21.3,!=4.21.4,!=4.21.5,<5.0.0dev,>=3.20.3 in /usr/local/lib/python3.10/dist-packages (from tensorflow==2.14) (4.25.5)\n",
            "Requirement already satisfied: setuptools in /usr/local/lib/python3.10/dist-packages (from tensorflow==2.14) (57.5.0)\n",
            "Requirement already satisfied: six>=1.12.0 in /usr/local/lib/python3.10/dist-packages (from tensorflow==2.14) (1.16.0)\n",
            "Requirement already satisfied: termcolor>=1.1.0 in /usr/local/lib/python3.10/dist-packages (from tensorflow==2.14) (2.5.0)\n",
            "Requirement already satisfied: typing-extensions>=3.6.6 in /usr/local/lib/python3.10/dist-packages (from tensorflow==2.14) (4.12.2)\n",
            "Requirement already satisfied: wrapt<1.15,>=1.11.0 in /usr/local/lib/python3.10/dist-packages (from tensorflow==2.14) (1.14.1)\n",
            "Requirement already satisfied: tensorflow-io-gcs-filesystem>=0.23.1 in /usr/local/lib/python3.10/dist-packages (from tensorflow==2.14) (0.37.1)\n",
            "Requirement already satisfied: grpcio<2.0,>=1.24.3 in /usr/local/lib/python3.10/dist-packages (from tensorflow==2.14) (1.67.1)\n",
            "Requirement already satisfied: tensorboard<2.15,>=2.14 in /usr/local/lib/python3.10/dist-packages (from tensorflow==2.14) (2.14.1)\n",
            "Requirement already satisfied: tensorflow-estimator<2.15,>=2.14.0 in /usr/local/lib/python3.10/dist-packages (from tensorflow==2.14) (2.14.0)\n",
            "Requirement already satisfied: keras<2.15,>=2.14.0 in /usr/local/lib/python3.10/dist-packages (from tensorflow==2.14) (2.14.0)\n",
            "Requirement already satisfied: wheel<1.0,>=0.23.0 in /usr/local/lib/python3.10/dist-packages (from astunparse>=1.6.0->tensorflow==2.14) (0.45.0)\n",
            "Requirement already satisfied: google-auth<3,>=1.6.3 in /usr/local/lib/python3.10/dist-packages (from tensorboard<2.15,>=2.14->tensorflow==2.14) (2.27.0)\n",
            "Requirement already satisfied: google-auth-oauthlib<1.1,>=0.5 in /usr/local/lib/python3.10/dist-packages (from tensorboard<2.15,>=2.14->tensorflow==2.14) (1.0.0)\n",
            "Requirement already satisfied: markdown>=2.6.8 in /usr/local/lib/python3.10/dist-packages (from tensorboard<2.15,>=2.14->tensorflow==2.14) (3.7)\n",
            "Requirement already satisfied: requests<3,>=2.21.0 in /usr/local/lib/python3.10/dist-packages (from tensorboard<2.15,>=2.14->tensorflow==2.14) (2.32.3)\n",
            "Requirement already satisfied: tensorboard-data-server<0.8.0,>=0.7.0 in /usr/local/lib/python3.10/dist-packages (from tensorboard<2.15,>=2.14->tensorflow==2.14) (0.7.2)\n",
            "Requirement already satisfied: werkzeug>=1.0.1 in /usr/local/lib/python3.10/dist-packages (from tensorboard<2.15,>=2.14->tensorflow==2.14) (3.1.3)\n",
            "Requirement already satisfied: cachetools<6.0,>=2.0.0 in /usr/local/lib/python3.10/dist-packages (from google-auth<3,>=1.6.3->tensorboard<2.15,>=2.14->tensorflow==2.14) (5.5.0)\n",
            "Requirement already satisfied: pyasn1-modules>=0.2.1 in /usr/local/lib/python3.10/dist-packages (from google-auth<3,>=1.6.3->tensorboard<2.15,>=2.14->tensorflow==2.14) (0.4.1)\n",
            "Requirement already satisfied: rsa<5,>=3.1.4 in /usr/local/lib/python3.10/dist-packages (from google-auth<3,>=1.6.3->tensorboard<2.15,>=2.14->tensorflow==2.14) (4.9)\n",
            "Requirement already satisfied: requests-oauthlib>=0.7.0 in /usr/local/lib/python3.10/dist-packages (from google-auth-oauthlib<1.1,>=0.5->tensorboard<2.15,>=2.14->tensorflow==2.14) (1.3.1)\n",
            "Requirement already satisfied: charset-normalizer<4,>=2 in /usr/local/lib/python3.10/dist-packages (from requests<3,>=2.21.0->tensorboard<2.15,>=2.14->tensorflow==2.14) (3.4.0)\n",
            "Requirement already satisfied: idna<4,>=2.5 in /usr/local/lib/python3.10/dist-packages (from requests<3,>=2.21.0->tensorboard<2.15,>=2.14->tensorflow==2.14) (3.10)\n",
            "Requirement already satisfied: urllib3<3,>=1.21.1 in /usr/local/lib/python3.10/dist-packages (from requests<3,>=2.21.0->tensorboard<2.15,>=2.14->tensorflow==2.14) (2.2.3)\n",
            "Requirement already satisfied: certifi>=2017.4.17 in /usr/local/lib/python3.10/dist-packages (from requests<3,>=2.21.0->tensorboard<2.15,>=2.14->tensorflow==2.14) (2024.8.30)\n",
            "Requirement already satisfied: MarkupSafe>=2.1.1 in /usr/local/lib/python3.10/dist-packages (from werkzeug>=1.0.1->tensorboard<2.15,>=2.14->tensorflow==2.14) (3.0.2)\n",
            "Requirement already satisfied: pyasn1<0.7.0,>=0.4.6 in /usr/local/lib/python3.10/dist-packages (from pyasn1-modules>=0.2.1->google-auth<3,>=1.6.3->tensorboard<2.15,>=2.14->tensorflow==2.14) (0.6.1)\n",
            "Requirement already satisfied: oauthlib>=3.0.0 in /usr/local/lib/python3.10/dist-packages (from requests-oauthlib>=0.7.0->google-auth-oauthlib<1.1,>=0.5->tensorboard<2.15,>=2.14->tensorflow==2.14) (3.2.2)\n"
          ]
        }
      ]
    },
    {
      "cell_type": "code",
      "source": [
        "cd /content/ml-fairness-gym"
      ],
      "metadata": {
        "colab": {
          "base_uri": "https://localhost:8080/"
        },
        "id": "lZRAgc4U3-32",
        "outputId": "dfc40c55-edd9-4e65-9382-ebfef79f46ac"
      },
      "execution_count": 29,
      "outputs": [
        {
          "output_type": "stream",
          "name": "stdout",
          "text": [
            "/content/ml-fairness-gym\n"
          ]
        }
      ]
    },
    {
      "cell_type": "code",
      "source": [
        "!pwd"
      ],
      "metadata": {
        "colab": {
          "base_uri": "https://localhost:8080/"
        },
        "id": "xvQgVK91310f",
        "outputId": "a103d2ba-cd37-4c6a-a5b7-a69601f9c4f7"
      },
      "execution_count": 30,
      "outputs": [
        {
          "output_type": "stream",
          "name": "stdout",
          "text": [
            "/content/ml-fairness-gym\n"
          ]
        }
      ]
    },
    {
      "cell_type": "markdown",
      "source": [
        "# Run the tests"
      ],
      "metadata": {
        "id": "rduKoY2W2cBh"
      }
    },
    {
      "cell_type": "code",
      "source": [
        "!chmod +x tests.sh\n",
        "!./tests.sh"
      ],
      "metadata": {
        "colab": {
          "base_uri": "https://localhost:8080/"
        },
        "id": "IzyTMhkx2hGW",
        "outputId": "2223fcce-e003-4a31-ee78-3a7d466d8202"
      },
      "execution_count": null,
      "outputs": [
        {
          "output_type": "stream",
          "name": "stdout",
          "text": [
            "2024-11-18 10:45:24.309500: I tensorflow/tsl/cuda/cudart_stub.cc:28] Could not find cuda drivers on your machine, GPU will not be used.\n",
            "2024-11-18 10:45:24.381327: E tensorflow/compiler/xla/stream_executor/cuda/cuda_dnn.cc:9342] Unable to register cuDNN factory: Attempting to register factory for plugin cuDNN when one has already been registered\n",
            "2024-11-18 10:45:24.381398: E tensorflow/compiler/xla/stream_executor/cuda/cuda_fft.cc:609] Unable to register cuFFT factory: Attempting to register factory for plugin cuFFT when one has already been registered\n",
            "2024-11-18 10:45:24.381495: E tensorflow/compiler/xla/stream_executor/cuda/cuda_blas.cc:1518] Unable to register cuBLAS factory: Attempting to register factory for plugin cuBLAS when one has already been registered\n",
            "2024-11-18 10:45:24.396679: I tensorflow/tsl/cuda/cudart_stub.cc:28] Could not find cuda drivers on your machine, GPU will not be used.\n",
            "2024-11-18 10:45:24.397069: I tensorflow/core/platform/cpu_feature_guard.cc:182] This TensorFlow binary is optimized to use available CPU instructions in performance-critical operations.\n",
            "To enable the following instructions: AVX2 FMA, in other operations, rebuild TensorFlow with the appropriate compiler flags.\n",
            "2024-11-18 10:45:26.125803: W tensorflow/compiler/tf2tensorrt/utils/py_utils.cc:38] TF-TRT Warning: Could not find TensorRT\n",
            "Running tests under Python 3.10.12: /usr/bin/python3\n",
            "[ RUN      ] RunnerLibTest.test_configured_parametrized_runner_takes_correct_number_of_steps\n",
            "Starting simulation\n",
            "100% 10/10 [00:00<00:00, 320.03it/s]\n",
            "Measuring metrics\n",
            "[       OK ] RunnerLibTest.test_configured_parametrized_runner_takes_correct_number_of_steps\n",
            "[ RUN      ] RunnerLibTest.test_configured_runner_takes_correct_number_of_steps\n",
            "Starting simulation\n",
            "100% 10/10 [00:00<00:00, 341.75it/s]\n",
            "Measuring metrics\n",
            "[       OK ] RunnerLibTest.test_configured_runner_takes_correct_number_of_steps\n",
            "[ RUN      ] RunnerLibTest.test_environment_underspecification_raises\n",
            "[       OK ] RunnerLibTest.test_environment_underspecification_raises\n",
            "----------------------------------------------------------------------\n",
            "Ran 3 tests in 0.086s\n",
            "\n",
            "OK\n",
            "2024-11-18 10:45:32.780611: I tensorflow/tsl/cuda/cudart_stub.cc:28] Could not find cuda drivers on your machine, GPU will not be used.\n",
            "2024-11-18 10:45:32.869156: E tensorflow/compiler/xla/stream_executor/cuda/cuda_dnn.cc:9342] Unable to register cuDNN factory: Attempting to register factory for plugin cuDNN when one has already been registered\n",
            "2024-11-18 10:45:32.869228: E tensorflow/compiler/xla/stream_executor/cuda/cuda_fft.cc:609] Unable to register cuFFT factory: Attempting to register factory for plugin cuFFT when one has already been registered\n",
            "2024-11-18 10:45:32.869302: E tensorflow/compiler/xla/stream_executor/cuda/cuda_blas.cc:1518] Unable to register cuBLAS factory: Attempting to register factory for plugin cuBLAS when one has already been registered\n",
            "2024-11-18 10:45:32.883855: I tensorflow/tsl/cuda/cudart_stub.cc:28] Could not find cuda drivers on your machine, GPU will not be used.\n",
            "2024-11-18 10:45:32.884275: I tensorflow/core/platform/cpu_feature_guard.cc:182] This TensorFlow binary is optimized to use available CPU instructions in performance-critical operations.\n",
            "To enable the following instructions: AVX2 FMA, in other operations, rebuild TensorFlow with the appropriate compiler flags.\n",
            "2024-11-18 10:45:34.315848: W tensorflow/compiler/tf2tensorrt/utils/py_utils.cc:38] TF-TRT Warning: Could not find TensorRT\n",
            "Running tests under Python 3.10.12: /usr/bin/python3\n",
            "[ RUN      ] InfectiousDiseaseRlTest.test_dopamine_train_eval\n",
            "W1118 10:45:37.461850 132503640145920 run_experiment.py:296] DEPRECATION WARNING: Logger is being deprecated. Please switch to CollectorDispatcher!\n",
            "I1118 10:45:37.474585 132503640145920 dqn_agent.py:154] Creating DQNAgent agent with the following parameters:\n",
            "I1118 10:45:37.475122 132503640145920 dqn_agent.py:158] \t gamma: 0.500000\n",
            "I1118 10:45:37.475445 132503640145920 dqn_agent.py:159] \t update_horizon: 1.000000\n",
            "I1118 10:45:37.475808 132503640145920 dqn_agent.py:160] \t min_replay_history: 1000\n",
            "I1118 10:45:37.475880 132503640145920 dqn_agent.py:161] \t update_period: 4\n",
            "I1118 10:45:37.475956 132503640145920 dqn_agent.py:162] \t target_update_period: 8000\n",
            "I1118 10:45:37.476018 132503640145920 dqn_agent.py:163] \t epsilon_train: 0.500000\n",
            "I1118 10:45:37.476083 132503640145920 dqn_agent.py:164] \t epsilon_eval: 0.001000\n",
            "I1118 10:45:37.476147 132503640145920 dqn_agent.py:165] \t epsilon_decay_period: 250000\n",
            "I1118 10:45:37.476207 132503640145920 dqn_agent.py:166] \t tf_device: /cpu:*\n",
            "I1118 10:45:37.476265 132503640145920 dqn_agent.py:167] \t use_staging: False\n",
            "I1118 10:45:37.476622 132503640145920 dqn_agent.py:168] \t optimizer: <tensorflow.python.training.gradient_descent.GradientDescentOptimizer object at 0x788277c5a860>\n",
            "I1118 10:45:37.476889 132503640145920 dqn_agent.py:169] \t max_tf_checkpoints_to_keep: 4\n",
            "WARNING:tensorflow:From /usr/local/lib/python3.10/dist-packages/tensorflow/python/compat/v2_compat.py:108: disable_resource_variables (from tensorflow.python.ops.variable_scope) is deprecated and will be removed in a future version.\n",
            "Instructions for updating:\n",
            "non-resource variables are not supported in the long term\n",
            "W1118 10:45:37.477143 132503640145920 deprecation.py:50] From /usr/local/lib/python3.10/dist-packages/tensorflow/python/compat/v2_compat.py:108: disable_resource_variables (from tensorflow.python.ops.variable_scope) is deprecated and will be removed in a future version.\n",
            "Instructions for updating:\n",
            "non-resource variables are not supported in the long term\n",
            "I1118 10:45:37.480253 132503640145920 circular_replay_buffer.py:161] Creating a OutOfGraphReplayBuffer replay memory with the following parameters:\n",
            "I1118 10:45:37.480403 132503640145920 circular_replay_buffer.py:165] \t observation_shape: (16, 3)\n",
            "I1118 10:45:37.480482 132503640145920 circular_replay_buffer.py:166] \t observation_dtype: <class 'numpy.int32'>\n",
            "I1118 10:45:37.480545 132503640145920 circular_replay_buffer.py:167] \t terminal_dtype: <class 'numpy.uint8'>\n",
            "I1118 10:45:37.480605 132503640145920 circular_replay_buffer.py:168] \t stack_size: 1\n",
            "I1118 10:45:37.480677 132503640145920 circular_replay_buffer.py:169] \t replay_capacity: 1000000\n",
            "I1118 10:45:37.480746 132503640145920 circular_replay_buffer.py:170] \t batch_size: 32\n",
            "I1118 10:45:37.480806 132503640145920 circular_replay_buffer.py:171] \t update_horizon: 1\n",
            "I1118 10:45:37.480864 132503640145920 circular_replay_buffer.py:172] \t gamma: 0.500000\n",
            "I1118 10:45:37.480947 132503640145920 circular_replay_buffer.py:173] \t checkpoint_duration: 4\n",
            "I1118 10:45:37.481009 132503640145920 circular_replay_buffer.py:174] \t keep_every: None\n",
            "I1118 10:45:37.758695 132503640145920 atari_lib.py:124] legacy_checkpoint_load: False\n",
            "2024-11-18 10:45:37.784595: I tensorflow/compiler/mlir/mlir_graph_optimization_pass.cc:382] MLIR V1 optimization pass is not enabled\n",
            "I1118 10:45:37.814221 132503640145920 collector_dispatcher.py:81] Added collector console.\n",
            "I1118 10:45:37.814569 132503640145920 collector_dispatcher.py:81] Added collector pickle.\n",
            "I1118 10:45:37.818405 132503640145920 collector_dispatcher.py:81] Added collector tensorboard.\n",
            "I1118 10:45:37.818589 132503640145920 run_experiment.py:667] Beginning training...\n",
            "  0% 0/10 [00:00<?, ?it/s]I1118 10:45:37.820201 132503640145920 run_experiment.py:538] Starting iteration 0\n",
            "I1118 10:45:38.994609 132503640145920 run_experiment.py:491] Average undiscounted return per training episode: 0.00\n",
            "I1118 10:45:38.995122 132503640145920 run_experiment.py:494] Average training steps per second: 425.80\n",
            "I1118 10:45:39.262717 132503640145920 run_experiment.py:516] Average undiscounted return per evaluation episode: 0.00\n",
            "I1118 10:45:39.262947 132503640145920 console_collector.py:52] [Iteration 0]: Train/NumEpisodes = 25\n",
            "[Iteration 0]: Train/AverageReturns = 0.0\n",
            "[Iteration 0]: Train/AverageStepsPerSecond = 425.8008923100288\n",
            "[Iteration 0]: Eval/NumEpisodes = 5\n",
            "[Iteration 0]: Eval/AverageReturns = 0.0\n",
            "\n",
            " 10% 1/10 [00:03<00:28,  3.14s/it]I1118 10:45:40.963086 132503640145920 run_experiment.py:538] Starting iteration 1\n",
            "I1118 10:45:41.966183 132503640145920 run_experiment.py:491] Average undiscounted return per training episode: 0.00\n",
            "I1118 10:45:41.966363 132503640145920 run_experiment.py:494] Average training steps per second: 498.55\n",
            "I1118 10:45:42.220470 132503640145920 run_experiment.py:516] Average undiscounted return per evaluation episode: 0.00\n",
            "I1118 10:45:42.220693 132503640145920 console_collector.py:52] [Iteration 1]: Train/NumEpisodes = 25\n",
            "[Iteration 1]: Train/AverageReturns = 0.0\n",
            "[Iteration 1]: Train/AverageStepsPerSecond = 498.5524721132766\n",
            "[Iteration 1]: Eval/NumEpisodes = 5\n",
            "[Iteration 1]: Eval/AverageReturns = 0.0\n",
            "\n",
            " 20% 2/10 [00:06<00:24,  3.10s/it]I1118 10:45:44.040334 132503640145920 run_experiment.py:538] Starting iteration 2\n",
            "I1118 10:45:46.459293 132503640145920 run_experiment.py:491] Average undiscounted return per training episode: 0.00\n",
            "I1118 10:45:46.459520 132503640145920 run_experiment.py:494] Average training steps per second: 206.72\n",
            "I1118 10:45:46.867107 132503640145920 run_experiment.py:516] Average undiscounted return per evaluation episode: 0.00\n",
            "I1118 10:45:46.867388 132503640145920 console_collector.py:52] [Iteration 2]: Train/NumEpisodes = 25\n",
            "[Iteration 2]: Train/AverageReturns = 0.0\n",
            "[Iteration 2]: Train/AverageStepsPerSecond = 206.71929987463685\n",
            "[Iteration 2]: Eval/NumEpisodes = 5\n",
            "[Iteration 2]: Eval/AverageReturns = 0.0\n",
            "\n",
            " 30% 3/10 [00:10<00:26,  3.75s/it]I1118 10:45:48.558805 132503640145920 run_experiment.py:538] Starting iteration 3\n",
            "I1118 10:45:50.039611 132503640145920 run_experiment.py:491] Average undiscounted return per training episode: 0.00\n",
            "I1118 10:45:50.039816 132503640145920 run_experiment.py:494] Average training steps per second: 337.71\n",
            "I1118 10:45:50.310452 132503640145920 run_experiment.py:516] Average undiscounted return per evaluation episode: 0.00\n",
            "I1118 10:45:50.310682 132503640145920 console_collector.py:52] [Iteration 3]: Train/NumEpisodes = 25\n",
            "[Iteration 3]: Train/AverageReturns = 0.0\n",
            "[Iteration 3]: Train/AverageStepsPerSecond = 337.7076481776139\n",
            "[Iteration 3]: Eval/NumEpisodes = 5\n",
            "[Iteration 3]: Eval/AverageReturns = 0.0\n",
            "\n",
            " 40% 4/10 [00:14<00:21,  3.62s/it]I1118 10:45:51.971396 132503640145920 run_experiment.py:538] Starting iteration 4\n",
            "I1118 10:45:53.503743 132503640145920 run_experiment.py:491] Average undiscounted return per training episode: 0.00\n",
            "I1118 10:45:53.503962 132503640145920 run_experiment.py:494] Average training steps per second: 326.34\n",
            "I1118 10:45:53.755976 132503640145920 run_experiment.py:516] Average undiscounted return per evaluation episode: 0.00\n",
            "I1118 10:45:53.756265 132503640145920 console_collector.py:52] [Iteration 4]: Train/NumEpisodes = 25\n",
            "[Iteration 4]: Train/AverageReturns = 0.0\n",
            "[Iteration 4]: Train/AverageStepsPerSecond = 326.3385954016825\n",
            "[Iteration 4]: Eval/NumEpisodes = 5\n",
            "[Iteration 4]: Eval/AverageReturns = 0.0\n",
            "\n",
            "WARNING:tensorflow:From /usr/local/lib/python3.10/dist-packages/tensorflow/python/training/saver.py:1067: remove_checkpoint (from tensorflow.python.checkpoint.checkpoint_management) is deprecated and will be removed in a future version.\n",
            "Instructions for updating:\n",
            "Use standard file APIs to delete files with this prefix.\n",
            "W1118 10:45:53.807867 132503640145920 deprecation.py:50] From /usr/local/lib/python3.10/dist-packages/tensorflow/python/training/saver.py:1067: remove_checkpoint (from tensorflow.python.checkpoint.checkpoint_management) is deprecated and will be removed in a future version.\n",
            "Instructions for updating:\n",
            "Use standard file APIs to delete files with this prefix.\n",
            " 50% 5/10 [00:17<00:17,  3.56s/it]I1118 10:45:55.433094 132503640145920 run_experiment.py:538] Starting iteration 5\n",
            "I1118 10:45:56.870864 132503640145920 run_experiment.py:491] Average undiscounted return per training episode: 0.00\n",
            "I1118 10:45:56.871082 132503640145920 run_experiment.py:494] Average training steps per second: 347.81\n",
            "I1118 10:45:57.193974 132503640145920 run_experiment.py:516] Average undiscounted return per evaluation episode: 0.00\n",
            "I1118 10:45:57.194247 132503640145920 console_collector.py:52] [Iteration 5]: Train/NumEpisodes = 25\n",
            "[Iteration 5]: Train/AverageReturns = 0.0\n",
            "[Iteration 5]: Train/AverageStepsPerSecond = 347.8103962064381\n",
            "[Iteration 5]: Eval/NumEpisodes = 5\n",
            "[Iteration 5]: Eval/AverageReturns = 0.0\n",
            "\n",
            " 60% 6/10 [00:21<00:15,  3.79s/it]I1118 10:45:59.659897 132503640145920 run_experiment.py:538] Starting iteration 6\n",
            "I1118 10:46:01.540781 132503640145920 run_experiment.py:491] Average undiscounted return per training episode: 0.00\n",
            "I1118 10:46:01.540998 132503640145920 run_experiment.py:494] Average training steps per second: 265.87\n",
            "I1118 10:46:01.810383 132503640145920 run_experiment.py:516] Average undiscounted return per evaluation episode: 0.00\n",
            "I1118 10:46:01.810673 132503640145920 console_collector.py:52] [Iteration 6]: Train/NumEpisodes = 25\n",
            "[Iteration 6]: Train/AverageReturns = 0.0\n",
            "[Iteration 6]: Train/AverageStepsPerSecond = 265.8667324545112\n",
            "[Iteration 6]: Eval/NumEpisodes = 5\n",
            "[Iteration 6]: Eval/AverageReturns = 0.0\n",
            "\n",
            " 70% 7/10 [00:26<00:11,  3.97s/it]I1118 10:46:04.000687 132503640145920 run_experiment.py:538] Starting iteration 7\n",
            "I1118 10:46:05.444080 132503640145920 run_experiment.py:491] Average undiscounted return per training episode: 0.00\n",
            "I1118 10:46:05.444272 132503640145920 run_experiment.py:494] Average training steps per second: 346.46\n",
            "I1118 10:46:05.688586 132503640145920 run_experiment.py:516] Average undiscounted return per evaluation episode: 0.00\n",
            "I1118 10:46:05.688805 132503640145920 console_collector.py:52] [Iteration 7]: Train/NumEpisodes = 25\n",
            "[Iteration 7]: Train/AverageReturns = 0.0\n",
            "[Iteration 7]: Train/AverageStepsPerSecond = 346.46157363765553\n",
            "[Iteration 7]: Eval/NumEpisodes = 5\n",
            "[Iteration 7]: Eval/AverageReturns = 0.0\n",
            "\n",
            " 80% 8/10 [00:29<00:07,  3.79s/it]I1118 10:46:07.406207 132503640145920 run_experiment.py:538] Starting iteration 8\n",
            "I1118 10:46:08.868018 132503640145920 run_experiment.py:491] Average undiscounted return per training episode: 0.00\n",
            "I1118 10:46:08.868218 132503640145920 run_experiment.py:494] Average training steps per second: 342.09\n",
            "I1118 10:46:09.129103 132503640145920 run_experiment.py:516] Average undiscounted return per evaluation episode: 0.00\n",
            "I1118 10:46:09.129329 132503640145920 console_collector.py:52] [Iteration 8]: Train/NumEpisodes = 25\n",
            "[Iteration 8]: Train/AverageReturns = 0.0\n",
            "[Iteration 8]: Train/AverageStepsPerSecond = 342.08810976823213\n",
            "[Iteration 8]: Eval/NumEpisodes = 5\n",
            "[Iteration 8]: Eval/AverageReturns = 0.0\n",
            "\n",
            " 90% 9/10 [00:33<00:03,  3.68s/it]I1118 10:46:10.862218 132503640145920 run_experiment.py:538] Starting iteration 9\n",
            "I1118 10:46:13.247564 132503640145920 run_experiment.py:491] Average undiscounted return per training episode: 0.00\n",
            "I1118 10:46:13.247793 132503640145920 run_experiment.py:494] Average training steps per second: 209.63\n",
            "I1118 10:46:13.662668 132503640145920 run_experiment.py:516] Average undiscounted return per evaluation episode: 0.00\n",
            "I1118 10:46:13.662948 132503640145920 console_collector.py:52] [Iteration 9]: Train/NumEpisodes = 25\n",
            "[Iteration 9]: Train/AverageReturns = 0.0\n",
            "[Iteration 9]: Train/AverageStepsPerSecond = 209.63480505226246\n",
            "[Iteration 9]: Eval/NumEpisodes = 5\n",
            "[Iteration 9]: Eval/AverageReturns = 0.0\n",
            "\n",
            "100% 10/10 [00:37<00:00,  3.78s/it]\n",
            "[       OK ] InfectiousDiseaseRlTest.test_dopamine_train_eval\n",
            "[ RUN      ] InfectiousDiseaseRlTest.test_negative_delta_percent_sick\n",
            "[       OK ] InfectiousDiseaseRlTest.test_negative_delta_percent_sick\n",
            "----------------------------------------------------------------------\n",
            "Ran 2 tests in 38.247s\n",
            "\n",
            "OK\n",
            "2024-11-18 10:46:17.594195: I tensorflow/tsl/cuda/cudart_stub.cc:28] Could not find cuda drivers on your machine, GPU will not be used.\n",
            "2024-11-18 10:46:17.649051: E tensorflow/compiler/xla/stream_executor/cuda/cuda_dnn.cc:9342] Unable to register cuDNN factory: Attempting to register factory for plugin cuDNN when one has already been registered\n",
            "2024-11-18 10:46:17.649118: E tensorflow/compiler/xla/stream_executor/cuda/cuda_fft.cc:609] Unable to register cuFFT factory: Attempting to register factory for plugin cuFFT when one has already been registered\n",
            "2024-11-18 10:46:17.649184: E tensorflow/compiler/xla/stream_executor/cuda/cuda_blas.cc:1518] Unable to register cuBLAS factory: Attempting to register factory for plugin cuBLAS when one has already been registered\n",
            "2024-11-18 10:46:17.659698: I tensorflow/tsl/cuda/cudart_stub.cc:28] Could not find cuda drivers on your machine, GPU will not be used.\n",
            "2024-11-18 10:46:17.660034: I tensorflow/core/platform/cpu_feature_guard.cc:182] This TensorFlow binary is optimized to use available CPU instructions in performance-critical operations.\n",
            "To enable the following instructions: AVX2 FMA, in other operations, rebuild TensorFlow with the appropriate compiler flags.\n",
            "2024-11-18 10:46:19.006036: W tensorflow/compiler/tf2tensorrt/utils/py_utils.cc:38] TF-TRT Warning: Could not find TensorRT\n"
          ]
        }
      ]
    }
  ]
}