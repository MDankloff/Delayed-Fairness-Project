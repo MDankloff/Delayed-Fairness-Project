{
 "cells": [
  {
   "cell_type": "markdown",
   "metadata": {},
   "source": [
    "# 1. Import data\n",
    "The dataset includes three relevant features that are possible to use as protected attributes for the data: \"customer_age\", \"income\" and \"employment_status\" "
   ]
  },
  {
   "cell_type": "code",
   "execution_count": null,
   "metadata": {},
   "outputs": [],
   "source": [
    "import glob\n",
    "import pandas as pd\n",
    "\n",
    "extension = \"csv\"  # or \"parquet\", depending on the downloaded file\n",
    "data_paths = glob.glob(f\"</path/to/datasets/>*.{extension}\")\n",
    "\n",
    "def read_dataset(path, ext=extension):\n",
    "    if ext == \"csv\":\n",
    "        return pd.read_csv(path, index_col=0)\n",
    "    elif ext == \"parquet\":\n",
    "        return pd.read_parquet(path)\n",
    "    else:\n",
    "        raise ValueError(f\"Invalid extension: '{ext}'.\")\n",
    "\n",
    "def get_variant(path):\n",
    "        return path.split(\"/\")[-1].split(\".\")[0]\n",
    "\n",
    "dataframes = {\n",
    "    get_variant(path): read_dataset(path) for path in data_paths\n",
    "}"
   ]
  },
  {
   "cell_type": "code",
   "execution_count": null,
   "metadata": {},
   "outputs": [],
   "source": []
  }
 ],
 "metadata": {
  "kernelspec": {
   "display_name": "fairness-gym",
   "language": "python",
   "name": "python3"
  },
  "language_info": {
   "name": "python",
   "version": "3.9.20"
  }
 },
 "nbformat": 4,
 "nbformat_minor": 2
}
